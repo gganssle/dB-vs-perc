{
 "cells": [
  {
   "cell_type": "code",
   "execution_count": 1,
   "metadata": {
    "collapsed": true
   },
   "outputs": [],
   "source": [
    "import numpy as np\n",
    "import matplotlib.pyplot as plt\n",
    "import math\n",
    "%matplotlib inline"
   ]
  },
  {
   "cell_type": "markdown",
   "metadata": {},
   "source": [
    "# Decibels vs. Percentages\n",
    "\n",
    "Percentages are simple, right? I bought four oranges. I ate two. What percentage of the original four do I have left? 50%. Easy.\n",
    "\n",
    "How many decibels down in oranges am I? Not so easy, eh? Well the answer is 3. Skim the rest of this notebook to find out why.\n",
    "\n",
    "### Percentage:\n",
    "The prefix <code>cent</code> indicates one hundred. For example: one <b>cent</b>ury is equal to one-hundred years. Percentage is simply a ratio of numbers compared to the number one-hundred, hence \"per-cent\", or \"per one hundred\"."
   ]
  },
  {
   "cell_type": "code",
   "execution_count": 2,
   "metadata": {
    "collapsed": true
   },
   "outputs": [],
   "source": [
    "# percentage function, v = new value, r = reference value\n",
    "def perc(v,r):\n",
    "    return 100 * (v / r)"
   ]
  },
  {
   "cell_type": "markdown",
   "metadata": {},
   "source": [
    "Let's now formalize our oranges percentage answer from above:"
   ]
  },
  {
   "cell_type": "code",
   "execution_count": 3,
   "metadata": {
    "collapsed": false
   },
   "outputs": [
    {
     "name": "stdout",
     "output_type": "stream",
     "text": [
      "You're left with 50.0 % of the original oranges.\n"
     ]
    }
   ],
   "source": [
    "original = 4\n",
    "uneaten = 2\n",
    "print(\"You're left with\", perc(uneaten, original), \"% of the original oranges.\")"
   ]
  },
  {
   "cell_type": "markdown",
   "metadata": {},
   "source": [
    "### Decibels:\n",
    "A decibel is simply a different way to represent the ratio of two numbers. It's based on a logrithmic calculation, as to compare values with large variance and small variance on the same scale (more on this below).\n",
    "<br><i>For an entertainingly complete history about how decibels were decided upon, read the <a href=\"https://en.wikipedia.org/wiki/Decibel\" target=\"_blank\">Wikipedia article.</a></i>"
   ]
  },
  {
   "cell_type": "code",
   "execution_count": 4,
   "metadata": {
    "collapsed": true
   },
   "outputs": [],
   "source": [
    "# decibel function, v = new value, r = reference value\n",
    "def deci(v,r):\n",
    "    return 10 * math.log(v / r, 10)"
   ]
  },
  {
   "cell_type": "markdown",
   "metadata": {},
   "source": [
    "Let's now formalize our oranges decibel answer from above:"
   ]
  },
  {
   "cell_type": "code",
   "execution_count": 5,
   "metadata": {
    "collapsed": false
   },
   "outputs": [
    {
     "name": "stdout",
     "output_type": "stream",
     "text": [
      "After lunch you have -3.01 decibels less oranges.\n"
     ]
    }
   ],
   "source": [
    "print(\"After lunch you have\", round( deci(uneaten, original), 2), \"decibels less oranges.\")"
   ]
  },
  {
   "cell_type": "markdown",
   "metadata": {},
   "source": [
    "That's it. Simply calculate the log to base ten of the ratio and multiply by ten.\n",
    "\n",
    "<hr>\n",
    "# Advanced Part\n",
    "<hr>\n",
    "\n",
    "Well <b>who cares?</b> I'm just going to use percentages. They're easier to calculate and I don't have to relearn my forgotten-for-decades logarithms.\n",
    "<br>True, most people use percentages because that's what everyone else does. However, I suggest that decibel loss is a more powerful and perceptively accurate representation of ratios.\n",
    "\n",
    "### Large ratios - small ratios\n",
    "Imagine you started with four oranges, and had somehow gained three million oranges. Sitting in the middle of your grove, you'd be left with a fairly cumbersome percentage to express:"
   ]
  },
  {
   "cell_type": "code",
   "execution_count": 6,
   "metadata": {
    "collapsed": false
   },
   "outputs": [
    {
     "data": {
      "text/plain": [
       "75000000.0"
      ]
     },
     "execution_count": 6,
     "metadata": {},
     "output_type": "execute_result"
    }
   ],
   "source": [
    "perc(3000000, original)"
   ]
  },
  {
   "cell_type": "markdown",
   "metadata": {},
   "source": [
    "\"I have seventy five million percent of my original oranges.\" Yikes. What does that even mean? Use decibels instead:"
   ]
  },
  {
   "cell_type": "code",
   "execution_count": 7,
   "metadata": {
    "collapsed": false
   },
   "outputs": [
    {
     "data": {
      "text/plain": [
       "58.750612633917"
      ]
     },
     "execution_count": 7,
     "metadata": {},
     "output_type": "execute_result"
    }
   ],
   "source": [
    "deci(3000000, original)"
   ]
  },
  {
   "cell_type": "markdown",
   "metadata": {},
   "source": [
    "\"I've gained fifty-nine decibels of oranges.\""
   ]
  },
  {
   "cell_type": "markdown",
   "metadata": {},
   "source": [
    "### Negative ratios\n",
    "Additionally, the decibel scale automatically expresses positive and negative ratios."
   ]
  },
  {
   "cell_type": "code",
   "execution_count": 8,
   "metadata": {
    "collapsed": false
   },
   "outputs": [
    {
     "name": "stdout",
     "output_type": "stream",
     "text": [
      "-3.0102999566398116\n",
      "50.0\n"
     ]
    }
   ],
   "source": [
    "# Less oranges than original number\n",
    "print(deci(uneaten, original))\n",
    "print(perc(uneaten, original))"
   ]
  },
  {
   "cell_type": "code",
   "execution_count": 9,
   "metadata": {
    "collapsed": false
   },
   "outputs": [
    {
     "name": "stdout",
     "output_type": "stream",
     "text": [
      "3.0102999566398116\n",
      "200.0\n"
     ]
    }
   ],
   "source": [
    "# More oranges than original number\n",
    "print(deci(8, original))\n",
    "print(perc(8, original))"
   ]
  },
  {
   "cell_type": "markdown",
   "metadata": {},
   "source": [
    "### Greater than 100% ratios\n",
    "There's some ambiguity when a person states she has 130% more oranges than her original number. Does this mean she has 5.2 oranges (which is 30% more than 4 oranges)?"
   ]
  },
  {
   "cell_type": "code",
   "execution_count": 10,
   "metadata": {
    "collapsed": false
   },
   "outputs": [
    {
     "data": {
      "text/plain": [
       "130.0"
      ]
     },
     "execution_count": 10,
     "metadata": {},
     "output_type": "execute_result"
    }
   ],
   "source": [
    "perc(5.2, original)"
   ]
  },
  {
   "cell_type": "markdown",
   "metadata": {},
   "source": [
    " Does she have 9.2 oranges (which is 130% more than 4 oranges)?"
   ]
  },
  {
   "cell_type": "code",
   "execution_count": 11,
   "metadata": {
    "collapsed": false
   },
   "outputs": [
    {
     "data": {
      "text/plain": [
       "229.99999999999997"
      ]
     },
     "execution_count": 11,
     "metadata": {},
     "output_type": "execute_result"
    }
   ],
   "source": [
    "perc(9.2, original)"
   ]
  },
  {
   "cell_type": "markdown",
   "metadata": {},
   "source": [
    "Expressed in decibel format, the answer is clear:"
   ]
  },
  {
   "cell_type": "code",
   "execution_count": 12,
   "metadata": {
    "collapsed": false
   },
   "outputs": [
    {
     "data": {
      "text/plain": [
       "1.1394335230683676"
      ]
     },
     "execution_count": 12,
     "metadata": {},
     "output_type": "execute_result"
    }
   ],
   "source": [
    "deci(5.2, original)"
   ]
  },
  {
   "cell_type": "markdown",
   "metadata": {},
   "source": [
    "She's gained 1.1 decibels in orange holdings.\n",
    "\n",
    "# How do they stack up?"
   ]
  },
  {
   "cell_type": "code",
   "execution_count": 13,
   "metadata": {
    "collapsed": false
   },
   "outputs": [
    {
     "data": {
      "image/png": "[encoded data removed]",
      "text/plain": [
       "<matplotlib.figure.Figure at 0x7f6e4b181ba8>"
      ]
     },
     "metadata": {},
     "output_type": "display_data"
    }
   ],
   "source": [
    "width = 100\n",
    "center = 50\n",
    "ref = center\n",
    "\n",
    "percplot = np.zeros(width)\n",
    "deciplot = np.zeros(width)\n",
    "\n",
    "for i in range(width):\n",
    "    val = center - (width/2) + i\n",
    "    if val == 0:\n",
    "        val = 0.000001\n",
    "    percplot[i] = perc(val, ref)\n",
    "    deciplot[i] = deci(val, ref)\n",
    "plt.plot(range(width), percplot, 'r', label=\"percentage\")\n",
    "plt.plot(range(width), deciplot, 'b', label=\"decibels\")\n",
    "plt.plot((ref,ref), (-100,percplot[width-1]), 'k', label=\"reference value\")\n",
    "plt.legend(loc=4)\n",
    "plt.show()\n",
    "#plt.savefig('linear_plot.png', dpi=150)"
   ]
  },
  {
   "cell_type": "code",
   "execution_count": 14,
   "metadata": {
    "collapsed": false
   },
   "outputs": [
    {
     "data": {
      "image/png": "[encoded data removed]",
      "text/plain": [
       "<matplotlib.figure.Figure at 0x7f6e4b171a58>"
      ]
     },
     "metadata": {},
     "output_type": "display_data"
    }
   ],
   "source": [
    "plt.semilogy(range(width), deciplot, 'b', label=\"decibels\")\n",
    "plt.semilogy(range(width), percplot, 'r', label=\"percentage\")\n",
    "plt.legend(loc=4)\n",
    "plt.show()\n",
    "#plt.savefig('log_plot.png', dpi=150)"
   ]
  },
  {
   "cell_type": "code",
   "execution_count": null,
   "metadata": {
    "collapsed": true
   },
   "outputs": [],
   "source": []
  }
 ],
 "metadata": {
  "kernelspec": {
   "display_name": "Python 3",
   "language": "python",
   "name": "python3"
  },
  "language_info": {
   "codemirror_mode": {
    "name": "ipython",
    "version": 3
   },
   "file_extension": ".py",
   "mimetype": "text/x-python",
   "name": "python",
   "nbconvert_exporter": "python",
   "pygments_lexer": "ipython3",
   "version": "3.5.1"
  }
 },
 "nbformat": 4,
 "nbformat_minor": 0
}
